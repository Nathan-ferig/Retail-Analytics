{
 "cells": [
  {
   "cell_type": "code",
   "execution_count": 1,
   "id": "844100b2",
   "metadata": {},
   "outputs": [
    {
     "name": "stdout",
     "output_type": "stream",
     "text": [
      "'''Retrieve all inputs executed in the current kernel section'''\n",
      "%history\n"
     ]
    }
   ],
   "source": [
    "'''Retrieve all inputs executed in the current kernel section'''\n",
    "%history"
   ]
  },
  {
   "cell_type": "code",
   "execution_count": 2,
   "id": "39aa90b6",
   "metadata": {},
   "outputs": [],
   "source": [
    "import numpy as np\n",
    "import pandas as pd\n",
    "\n",
    "import warnings"
   ]
  },
  {
   "cell_type": "code",
   "execution_count": 3,
   "id": "a931cba9",
   "metadata": {},
   "outputs": [
    {
     "name": "stdout",
     "output_type": "stream",
     "text": [
      "Pandas version -> 2.1.2\n",
      "Numpy version -> 1.26.1\n"
     ]
    }
   ],
   "source": [
    "print('Pandas version -> %s' % pd.__version__)\n",
    "print('Numpy version -> %s' % np.__version__)"
   ]
  },
  {
   "cell_type": "code",
   "execution_count": 4,
   "id": "81a92971",
   "metadata": {},
   "outputs": [],
   "source": [
    "df = pd.read_csv('online_retail.csv')"
   ]
  },
  {
   "cell_type": "code",
   "execution_count": 5,
   "id": "2086d5b3",
   "metadata": {},
   "outputs": [
    {
     "data": {
      "text/html": [
       "<div>\n",
       "<style scoped>\n",
       "    .dataframe tbody tr th:only-of-type {\n",
       "        vertical-align: middle;\n",
       "    }\n",
       "\n",
       "    .dataframe tbody tr th {\n",
       "        vertical-align: top;\n",
       "    }\n",
       "\n",
       "    .dataframe thead th {\n",
       "        text-align: right;\n",
       "    }\n",
       "</style>\n",
       "<table border=\"1\" class=\"dataframe\">\n",
       "  <thead>\n",
       "    <tr style=\"text-align: right;\">\n",
       "      <th></th>\n",
       "      <th>InvoiceNo</th>\n",
       "      <th>InvoiceDate</th>\n",
       "      <th>InvoiceTime</th>\n",
       "      <th>StockCode</th>\n",
       "      <th>Description</th>\n",
       "      <th>Quantity</th>\n",
       "      <th>UnitPrice</th>\n",
       "      <th>Totalsale</th>\n",
       "      <th>CustomerID</th>\n",
       "      <th>Country</th>\n",
       "    </tr>\n",
       "  </thead>\n",
       "  <tbody>\n",
       "    <tr>\n",
       "      <th>0</th>\n",
       "      <td>536365</td>\n",
       "      <td>01-12-2010</td>\n",
       "      <td>08:26:00 AM</td>\n",
       "      <td>85123A</td>\n",
       "      <td>WHITE HANGING HEART T-LIGHT HOLDER</td>\n",
       "      <td>6</td>\n",
       "      <td>2.55</td>\n",
       "      <td>15.30</td>\n",
       "      <td>17850.0</td>\n",
       "      <td>United Kingdom</td>\n",
       "    </tr>\n",
       "    <tr>\n",
       "      <th>1</th>\n",
       "      <td>536365</td>\n",
       "      <td>01-12-2010</td>\n",
       "      <td>08:26:00 AM</td>\n",
       "      <td>71053</td>\n",
       "      <td>WHITE METAL LANTERN</td>\n",
       "      <td>6</td>\n",
       "      <td>3.39</td>\n",
       "      <td>20.34</td>\n",
       "      <td>17850.0</td>\n",
       "      <td>United Kingdom</td>\n",
       "    </tr>\n",
       "    <tr>\n",
       "      <th>2</th>\n",
       "      <td>536365</td>\n",
       "      <td>01-12-2010</td>\n",
       "      <td>08:26:00 AM</td>\n",
       "      <td>84406B</td>\n",
       "      <td>CREAM CUPID HEARTS COAT HANGER</td>\n",
       "      <td>8</td>\n",
       "      <td>2.75</td>\n",
       "      <td>22.00</td>\n",
       "      <td>17850.0</td>\n",
       "      <td>United Kingdom</td>\n",
       "    </tr>\n",
       "    <tr>\n",
       "      <th>3</th>\n",
       "      <td>536365</td>\n",
       "      <td>01-12-2010</td>\n",
       "      <td>08:26:00 AM</td>\n",
       "      <td>84029G</td>\n",
       "      <td>KNITTED UNION FLAG HOT WATER BOTTLE</td>\n",
       "      <td>6</td>\n",
       "      <td>3.39</td>\n",
       "      <td>20.34</td>\n",
       "      <td>17850.0</td>\n",
       "      <td>United Kingdom</td>\n",
       "    </tr>\n",
       "    <tr>\n",
       "      <th>4</th>\n",
       "      <td>536365</td>\n",
       "      <td>01-12-2010</td>\n",
       "      <td>08:26:00 AM</td>\n",
       "      <td>84029E</td>\n",
       "      <td>RED WOOLLY HOTTIE WHITE HEART.</td>\n",
       "      <td>6</td>\n",
       "      <td>3.39</td>\n",
       "      <td>20.34</td>\n",
       "      <td>17850.0</td>\n",
       "      <td>United Kingdom</td>\n",
       "    </tr>\n",
       "  </tbody>\n",
       "</table>\n",
       "</div>"
      ],
      "text/plain": [
       "  InvoiceNo InvoiceDate  InvoiceTime StockCode  \\\n",
       "0    536365  01-12-2010  08:26:00 AM    85123A   \n",
       "1    536365  01-12-2010  08:26:00 AM     71053   \n",
       "2    536365  01-12-2010  08:26:00 AM    84406B   \n",
       "3    536365  01-12-2010  08:26:00 AM    84029G   \n",
       "4    536365  01-12-2010  08:26:00 AM    84029E   \n",
       "\n",
       "                           Description  Quantity  UnitPrice  Totalsale  \\\n",
       "0   WHITE HANGING HEART T-LIGHT HOLDER         6       2.55      15.30   \n",
       "1                  WHITE METAL LANTERN         6       3.39      20.34   \n",
       "2       CREAM CUPID HEARTS COAT HANGER         8       2.75      22.00   \n",
       "3  KNITTED UNION FLAG HOT WATER BOTTLE         6       3.39      20.34   \n",
       "4       RED WOOLLY HOTTIE WHITE HEART.         6       3.39      20.34   \n",
       "\n",
       "   CustomerID         Country  \n",
       "0     17850.0  United Kingdom  \n",
       "1     17850.0  United Kingdom  \n",
       "2     17850.0  United Kingdom  \n",
       "3     17850.0  United Kingdom  \n",
       "4     17850.0  United Kingdom  "
      ]
     },
     "execution_count": 5,
     "metadata": {},
     "output_type": "execute_result"
    }
   ],
   "source": [
    "df.head()"
   ]
  },
  {
   "cell_type": "code",
   "execution_count": 6,
   "id": "83635bf4",
   "metadata": {},
   "outputs": [
    {
     "name": "stdout",
     "output_type": "stream",
     "text": [
      "<class 'pandas.core.frame.DataFrame'>\n",
      "RangeIndex: 541909 entries, 0 to 541908\n",
      "Data columns (total 10 columns):\n",
      " #   Column       Non-Null Count   Dtype  \n",
      "---  ------       --------------   -----  \n",
      " 0   InvoiceNo    541909 non-null  object \n",
      " 1   InvoiceDate  541909 non-null  object \n",
      " 2   InvoiceTime  541909 non-null  object \n",
      " 3   StockCode    541909 non-null  object \n",
      " 4   Description  540455 non-null  object \n",
      " 5   Quantity     541909 non-null  int64  \n",
      " 6   UnitPrice    541909 non-null  float64\n",
      " 7   Totalsale    541909 non-null  float64\n",
      " 8   CustomerID   406829 non-null  float64\n",
      " 9   Country      541909 non-null  object \n",
      "dtypes: float64(3), int64(1), object(6)\n",
      "memory usage: 41.3+ MB\n"
     ]
    }
   ],
   "source": [
    "df.info()"
   ]
  },
  {
   "cell_type": "code",
   "execution_count": 7,
   "id": "a532c3c4",
   "metadata": {},
   "outputs": [
    {
     "name": "stdout",
     "output_type": "stream",
     "text": [
      " Number of rows: 541,909 \n",
      " Number of columns: 10 \n",
      " Number of rows with nulls values: 135,080 \n",
      " Number of rows with duplicates: 5,268 \n",
      " Number of rows with negative quantity: 10,624 \n",
      " Number of rows with negative or no sales price: 11,809\n"
     ]
    }
   ],
   "source": [
    "def assessment(dataframe):\n",
    "    rows, columns = dataframe.shape\n",
    "    nulls = dataframe.isnull().any(axis=1).sum()\n",
    "    duplicates = len(dataframe) - len(dataframe.drop_duplicates())\n",
    "    neg_qtd = dataframe.query('Quantity < 0').shape[0]\n",
    "    neg_price = dataframe.query('Totalsale <= 0').shape[0]\n",
    "    \n",
    "    return print(f' Number of rows: {rows:,} \\n',\n",
    "                 f'Number of columns: {columns:,} \\n',\n",
    "                 f'Number of rows with nulls values: {nulls:,} \\n',\n",
    "                 f'Number of rows with duplicates: {duplicates:,} \\n',\n",
    "                 f'Number of rows with negative quantity: {neg_qtd:,} \\n',\n",
    "                 f'Number of rows with negative or no sales price: {neg_price:,}')\n",
    "\n",
    "assessment(df)"
   ]
  },
  {
   "cell_type": "code",
   "execution_count": 8,
   "id": "54c3e557",
   "metadata": {},
   "outputs": [
    {
     "data": {
      "text/html": [
       "<style type=\"text/css\">\n",
       "</style>\n",
       "<table id=\"T_7ef7f\">\n",
       "  <thead>\n",
       "    <tr>\n",
       "      <th class=\"index_name level0\" >column</th>\n",
       "      <th id=\"T_7ef7f_level0_col0\" class=\"col_heading level0 col0\" >nulls</th>\n",
       "    </tr>\n",
       "  </thead>\n",
       "  <tbody>\n",
       "    <tr>\n",
       "      <th id=\"T_7ef7f_level0_row0\" class=\"row_heading level0 row0\" >Description</th>\n",
       "      <td id=\"T_7ef7f_row0_col0\" class=\"data row0 col0\" >1,454</td>\n",
       "    </tr>\n",
       "    <tr>\n",
       "      <th id=\"T_7ef7f_level0_row1\" class=\"row_heading level0 row1\" >CustomerID</th>\n",
       "      <td id=\"T_7ef7f_row1_col0\" class=\"data row1 col0\" >135,080</td>\n",
       "    </tr>\n",
       "  </tbody>\n",
       "</table>\n"
      ],
      "text/plain": [
       "<pandas.io.formats.style.Styler at 0x2b97fe65e80>"
      ]
     },
     "execution_count": 8,
     "metadata": {},
     "output_type": "execute_result"
    }
   ],
   "source": [
    "#Where are the null values?\n",
    "df.isnull().sum().to_frame('nulls').query('nulls > 0').rename_axis('column', axis=1).style.format(thousands=',')"
   ]
  },
  {
   "cell_type": "code",
   "execution_count": 9,
   "id": "67a615b8",
   "metadata": {},
   "outputs": [],
   "source": [
    "#making a copy to avoid changes in the original df\n",
    "df_retail = df.copy()"
   ]
  },
  {
   "cell_type": "code",
   "execution_count": 10,
   "id": "38612702",
   "metadata": {},
   "outputs": [
    {
     "name": "stdout",
     "output_type": "stream",
     "text": [
      " Number of rows: 392,688 \n",
      " Number of columns: 10 \n",
      " Number of rows with nulls values: 0 \n",
      " Number of rows with duplicates: 0 \n",
      " Number of rows with negative quantity: 0 \n",
      " Number of rows with negative or no sales price: 0\n"
     ]
    }
   ],
   "source": [
    "#cleaning the dataset\n",
    "df_retail.drop_duplicates(inplace = True)\n",
    "df_retail = df_retail.dropna(axis=0,how='any')\n",
    "df_retail = df_retail.query('Quantity >= 0 & Totalsale > 0')\n",
    "\n",
    "assessment(df_retail)"
   ]
  },
  {
   "cell_type": "code",
   "execution_count": 11,
   "id": "f4f32e36",
   "metadata": {},
   "outputs": [
    {
     "name": "stdout",
     "output_type": "stream",
     "text": [
      "Relative size of dropped rows after cleanning the dataset: 27.54%\n"
     ]
    }
   ],
   "source": [
    "relative_size_of_dropped_data = (df.shape[0] - df_retail.shape[0]) / df.shape[0]\n",
    "\n",
    "print(f'Relative size of dropped rows after cleanning the dataset: {relative_size_of_dropped_data*100:,.2f}%')"
   ]
  },
  {
   "cell_type": "code",
   "execution_count": 12,
   "id": "747cdde8",
   "metadata": {},
   "outputs": [
    {
     "name": "stdout",
     "output_type": "stream",
     "text": [
      "<class 'pandas.core.frame.DataFrame'>\n",
      "Index: 392688 entries, 0 to 541908\n",
      "Data columns (total 10 columns):\n",
      " #   Column       Non-Null Count   Dtype   \n",
      "---  ------       --------------   -----   \n",
      " 0   InvoiceNo    392688 non-null  category\n",
      " 1   InvoiceDate  392688 non-null  category\n",
      " 2   InvoiceTime  392688 non-null  category\n",
      " 3   StockCode    392688 non-null  category\n",
      " 4   Description  392688 non-null  category\n",
      " 5   Quantity     392688 non-null  int64   \n",
      " 6   UnitPrice    392688 non-null  float64 \n",
      " 7   Totalsale    392688 non-null  float64 \n",
      " 8   CustomerID   392688 non-null  float64 \n",
      " 9   Country      392688 non-null  category\n",
      "dtypes: category(6), float64(3), int64(1)\n",
      "memory usage: 20.1 MB\n"
     ]
    }
   ],
   "source": [
    "#transform data type from object to category if the ratio of values in column over column lenght is small enough\n",
    "def to_category(df):\n",
    "    cols = df.select_dtypes(include='object').columns\n",
    "    for col in cols:\n",
    "        ratio = len(df[col].value_counts()) / len(df)\n",
    "        if ratio < 0.1:\n",
    "            df[col] = df[col].astype('category')\n",
    "    return df\n",
    "\n",
    "df_retail = to_category(df_retail)\n",
    "\n",
    "df_retail.info()"
   ]
  },
  {
   "cell_type": "code",
   "execution_count": 13,
   "id": "7b30f19b",
   "metadata": {},
   "outputs": [],
   "source": [
    "#adjust type and set format option\n",
    "df_retail['CustomerID'] = df_retail['CustomerID'].astype(str)\n",
    "df_retail['CustomerID'] = df_retail['CustomerID'].str.replace('.0','')\n",
    "pd.options.display.float_format = '{:,.2f}'.format"
   ]
  },
  {
   "cell_type": "code",
   "execution_count": 14,
   "id": "3cb7cabd",
   "metadata": {},
   "outputs": [],
   "source": [
    "# Change InvoiceDate type from object to datetime\n",
    "df_retail['InvoiceDate'] = pd.to_datetime(df_retail['InvoiceDate'], dayfirst=True)"
   ]
  },
  {
   "cell_type": "code",
   "execution_count": 15,
   "id": "57406c87",
   "metadata": {},
   "outputs": [],
   "source": [
    "# Retrieve Year-Month from date\n",
    "df_retail['InvoiceMonth'] = df_retail['InvoiceDate'].dt.to_period('M').astype(str)"
   ]
  },
  {
   "cell_type": "code",
   "execution_count": 16,
   "id": "730b4776",
   "metadata": {},
   "outputs": [
    {
     "data": {
      "text/html": [
       "<style type=\"text/css\">\n",
       "</style>\n",
       "<table id=\"T_773a1\">\n",
       "  <thead>\n",
       "    <tr>\n",
       "      <th class=\"blank\" >&nbsp;</th>\n",
       "      <th class=\"blank level0\" >&nbsp;</th>\n",
       "      <th id=\"T_773a1_level0_col0\" class=\"col_heading level0 col0\" >InvoiceNo</th>\n",
       "    </tr>\n",
       "    <tr>\n",
       "      <th class=\"index_name level0\" >Hour</th>\n",
       "      <th class=\"index_name level1\" >DayPart</th>\n",
       "      <th class=\"blank col0\" >&nbsp;</th>\n",
       "    </tr>\n",
       "  </thead>\n",
       "  <tbody>\n",
       "    <tr>\n",
       "      <th id=\"T_773a1_level0_row0\" class=\"row_heading level0 row0\" >12</th>\n",
       "      <th id=\"T_773a1_level1_row0\" class=\"row_heading level1 row0\" >Noon</th>\n",
       "      <td id=\"T_773a1_row0_col0\" class=\"data row0 col0\" >3,130</td>\n",
       "    </tr>\n",
       "    <tr>\n",
       "      <th id=\"T_773a1_level0_row1\" class=\"row_heading level0 row1\" >13</th>\n",
       "      <th id=\"T_773a1_level1_row1\" class=\"row_heading level1 row1\" >Noon</th>\n",
       "      <td id=\"T_773a1_row1_col0\" class=\"data row1 col0\" >2,636</td>\n",
       "    </tr>\n",
       "    <tr>\n",
       "      <th id=\"T_773a1_level0_row2\" class=\"row_heading level0 row2\" >11</th>\n",
       "      <th id=\"T_773a1_level1_row2\" class=\"row_heading level1 row2\" >Morning</th>\n",
       "      <td id=\"T_773a1_row2_col0\" class=\"data row2 col0\" >2,277</td>\n",
       "    </tr>\n",
       "  </tbody>\n",
       "</table>\n"
      ],
      "text/plain": [
       "<pandas.io.formats.style.Styler at 0x2b9005cb070>"
      ]
     },
     "execution_count": 16,
     "metadata": {},
     "output_type": "execute_result"
    }
   ],
   "source": [
    "# Retrieve part of day from InvoiceTime\n",
    "warnings.filterwarnings(\"ignore\")\n",
    "\n",
    "df_retail['Hour'] = pd.to_datetime(df_retail['InvoiceTime']).dt.hour\n",
    "\n",
    "df_retail['DayPart'] = pd.cut(df_retail['Hour'],\n",
    "                          bins=[0,5,11,15,20,24],\n",
    "                          labels=['Night','Morning','Noon','Eve','Night'],\n",
    "                          ordered=False,\n",
    "                          include_lowest=True)\n",
    "\n",
    "warnings.filterwarnings(\"default\")\n",
    "\n",
    "df_retail.groupby(['Hour','DayPart'],observed=True)['InvoiceNo'].nunique().to_frame().sort_values(\n",
    "                    ['InvoiceNo'], axis = 0, ascending = False).head(3).style.format(thousands=',')"
   ]
  },
  {
   "cell_type": "code",
   "execution_count": 17,
   "id": "ed7bfa41",
   "metadata": {},
   "outputs": [
    {
     "data": {
      "text/html": [
       "<div>\n",
       "<style scoped>\n",
       "    .dataframe tbody tr th:only-of-type {\n",
       "        vertical-align: middle;\n",
       "    }\n",
       "\n",
       "    .dataframe tbody tr th {\n",
       "        vertical-align: top;\n",
       "    }\n",
       "\n",
       "    .dataframe thead th {\n",
       "        text-align: right;\n",
       "    }\n",
       "</style>\n",
       "<table border=\"1\" class=\"dataframe\">\n",
       "  <thead>\n",
       "    <tr style=\"text-align: right;\">\n",
       "      <th></th>\n",
       "      <th>DayPart</th>\n",
       "      <th>price_min</th>\n",
       "      <th>price_q25</th>\n",
       "      <th>price_q50</th>\n",
       "      <th>price_q75</th>\n",
       "      <th>price_max</th>\n",
       "      <th>price_mean</th>\n",
       "      <th>price_std</th>\n",
       "    </tr>\n",
       "  </thead>\n",
       "  <tbody>\n",
       "    <tr>\n",
       "      <th>0</th>\n",
       "      <td>Morning</td>\n",
       "      <td>0.06</td>\n",
       "      <td>8.25</td>\n",
       "      <td>15.00</td>\n",
       "      <td>20.80</td>\n",
       "      <td>168,469.60</td>\n",
       "      <td>30.02</td>\n",
       "      <td>547.58</td>\n",
       "    </tr>\n",
       "    <tr>\n",
       "      <th>1</th>\n",
       "      <td>Noon</td>\n",
       "      <td>0.08</td>\n",
       "      <td>4.16</td>\n",
       "      <td>10.20</td>\n",
       "      <td>17.70</td>\n",
       "      <td>38,970.00</td>\n",
       "      <td>19.39</td>\n",
       "      <td>105.53</td>\n",
       "    </tr>\n",
       "    <tr>\n",
       "      <th>2</th>\n",
       "      <td>Eve</td>\n",
       "      <td>0.12</td>\n",
       "      <td>3.75</td>\n",
       "      <td>8.85</td>\n",
       "      <td>17.00</td>\n",
       "      <td>4,176.00</td>\n",
       "      <td>20.05</td>\n",
       "      <td>81.97</td>\n",
       "    </tr>\n",
       "  </tbody>\n",
       "</table>\n",
       "</div>"
      ],
      "text/plain": [
       "   DayPart  price_min  price_q25  price_q50  price_q75  price_max  price_mean  \\\n",
       "0  Morning       0.06       8.25      15.00      20.80 168,469.60       30.02   \n",
       "1     Noon       0.08       4.16      10.20      17.70  38,970.00       19.39   \n",
       "2      Eve       0.12       3.75       8.85      17.00   4,176.00       20.05   \n",
       "\n",
       "   price_std  \n",
       "0     547.58  \n",
       "1     105.53  \n",
       "2      81.97  "
      ]
     },
     "execution_count": 17,
     "metadata": {},
     "output_type": "execute_result"
    }
   ],
   "source": [
    "#How the sales vary depends on the time of day\n",
    "def q25(x):\n",
    "    return x.quantile(0.25)\n",
    "\n",
    "def q75(x):\n",
    "    return x.quantile(0.75)\n",
    "\n",
    "df_retail.groupby(['DayPart'],observed=True).agg(price_min = ('Totalsale','min'),\n",
    "                                                 price_q25 = ('Totalsale',q25),\n",
    "                                                 price_q50 = ('Totalsale','median'),\n",
    "                                                 price_q75 = ('Totalsale',q75),\n",
    "                                                 price_max = ('Totalsale','max'),\n",
    "                                                 price_mean = ('Totalsale','mean'),\n",
    "                                                 price_std = ('Totalsale','std')\n",
    "                                                ).reindex(['Morning', 'Noon', 'Eve']).reset_index()"
   ]
  },
  {
   "cell_type": "code",
   "execution_count": 18,
   "id": "d63ec1eb",
   "metadata": {},
   "outputs": [
    {
     "data": {
      "text/html": [
       "<div>\n",
       "<style scoped>\n",
       "    .dataframe tbody tr th:only-of-type {\n",
       "        vertical-align: middle;\n",
       "    }\n",
       "\n",
       "    .dataframe tbody tr th {\n",
       "        vertical-align: top;\n",
       "    }\n",
       "\n",
       "    .dataframe thead th {\n",
       "        text-align: right;\n",
       "    }\n",
       "</style>\n",
       "<table border=\"1\" class=\"dataframe\">\n",
       "  <thead>\n",
       "    <tr style=\"text-align: right;\">\n",
       "      <th></th>\n",
       "      <th>InvoiceDate</th>\n",
       "      <th>InvoiceMonth</th>\n",
       "      <th>DayPart</th>\n",
       "      <th>InvoiceNo</th>\n",
       "      <th>CustomerID</th>\n",
       "      <th>Country</th>\n",
       "      <th>StockCode</th>\n",
       "      <th>Quantity</th>\n",
       "      <th>UnitPrice</th>\n",
       "      <th>Revenue</th>\n",
       "    </tr>\n",
       "  </thead>\n",
       "  <tbody>\n",
       "    <tr>\n",
       "      <th>0</th>\n",
       "      <td>2010-12-01</td>\n",
       "      <td>2010-12</td>\n",
       "      <td>Morning</td>\n",
       "      <td>536365</td>\n",
       "      <td>17850</td>\n",
       "      <td>United Kingdom</td>\n",
       "      <td>85123A</td>\n",
       "      <td>6</td>\n",
       "      <td>2.55</td>\n",
       "      <td>15.30</td>\n",
       "    </tr>\n",
       "    <tr>\n",
       "      <th>1</th>\n",
       "      <td>2010-12-01</td>\n",
       "      <td>2010-12</td>\n",
       "      <td>Morning</td>\n",
       "      <td>536365</td>\n",
       "      <td>17850</td>\n",
       "      <td>United Kingdom</td>\n",
       "      <td>71053</td>\n",
       "      <td>6</td>\n",
       "      <td>3.39</td>\n",
       "      <td>20.34</td>\n",
       "    </tr>\n",
       "    <tr>\n",
       "      <th>2</th>\n",
       "      <td>2010-12-01</td>\n",
       "      <td>2010-12</td>\n",
       "      <td>Morning</td>\n",
       "      <td>536365</td>\n",
       "      <td>17850</td>\n",
       "      <td>United Kingdom</td>\n",
       "      <td>84406B</td>\n",
       "      <td>8</td>\n",
       "      <td>2.75</td>\n",
       "      <td>22.00</td>\n",
       "    </tr>\n",
       "  </tbody>\n",
       "</table>\n",
       "</div>"
      ],
      "text/plain": [
       "  InvoiceDate InvoiceMonth  DayPart InvoiceNo CustomerID         Country  \\\n",
       "0  2010-12-01      2010-12  Morning    536365      17850  United Kingdom   \n",
       "1  2010-12-01      2010-12  Morning    536365      17850  United Kingdom   \n",
       "2  2010-12-01      2010-12  Morning    536365      17850  United Kingdom   \n",
       "\n",
       "  StockCode  Quantity  UnitPrice  Revenue  \n",
       "0    85123A         6       2.55    15.30  \n",
       "1     71053         6       3.39    20.34  \n",
       "2    84406B         8       2.75    22.00  "
      ]
     },
     "execution_count": 18,
     "metadata": {},
     "output_type": "execute_result"
    }
   ],
   "source": [
    "#More dataset cleaning\n",
    "df_retail = df_retail.drop(['Hour','InvoiceTime','Description'],axis=1)\n",
    "\n",
    "df_retail = df_retail.rename(columns={'Totalsale': 'Revenue'})\n",
    "\n",
    "df_retail = df_retail[['InvoiceDate','InvoiceMonth','DayPart','InvoiceNo','CustomerID','Country',\n",
    "                       'StockCode','Quantity','UnitPrice','Revenue']]\n",
    "\n",
    "df_retail.head(3)"
   ]
  },
  {
   "cell_type": "code",
   "execution_count": 19,
   "id": "dc2555c0",
   "metadata": {},
   "outputs": [
    {
     "name": "stdout",
     "output_type": "stream",
     "text": [
      " Total buyers: 4,338 \n",
      " One time buyers: 1,493 \n",
      " Returning buyers: 2,845 \n",
      " Return rate: 65.58 %\n"
     ]
    }
   ],
   "source": [
    "#Calculate the client's return rate\n",
    "df_orders_by_user = df_retail.groupby('CustomerID')['InvoiceNo'].nunique().reset_index()\n",
    "    \n",
    "all_buyers = df_orders_by_user['CustomerID'].nunique()\n",
    "one_time_buyers = df_orders_by_user.query('InvoiceNo == 1')['CustomerID'].nunique()\n",
    "returning_buyers = df_orders_by_user.query('InvoiceNo > 1')['CustomerID'].nunique()\n",
    "\n",
    "returning_rate = returning_buyers / all_buyers\n",
    "\n",
    "print(f' Total buyers: {all_buyers:,} \\n',\n",
    "      f'One time buyers: {one_time_buyers:,} \\n',\n",
    "      f'Returning buyers: {returning_buyers:,} \\n',\n",
    "       'Return rate: %2.2f %%'  % (returning_rate*100))"
   ]
  },
  {
   "cell_type": "code",
   "execution_count": 20,
   "id": "7a206811",
   "metadata": {},
   "outputs": [],
   "source": [
    "#export_data_cleaned\n",
    "df_retail.to_csv('sales_data_cleaned.csv')"
   ]
  },
  {
   "cell_type": "code",
   "execution_count": null,
   "id": "e14c61b2",
   "metadata": {},
   "outputs": [],
   "source": []
  }
 ],
 "metadata": {
  "kernelspec": {
   "display_name": "Python 3 (ipykernel)",
   "language": "python",
   "name": "python3"
  },
  "language_info": {
   "codemirror_mode": {
    "name": "ipython",
    "version": 3
   },
   "file_extension": ".py",
   "mimetype": "text/x-python",
   "name": "python",
   "nbconvert_exporter": "python",
   "pygments_lexer": "ipython3",
   "version": "3.9.7"
  }
 },
 "nbformat": 4,
 "nbformat_minor": 5
}
