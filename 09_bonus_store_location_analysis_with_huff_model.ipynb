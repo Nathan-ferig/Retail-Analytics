{
 "cells": [
  {
   "cell_type": "code",
   "execution_count": 1,
   "id": "47aff1d2",
   "metadata": {},
   "outputs": [
    {
     "name": "stdout",
     "output_type": "stream",
     "text": [
      "'''Retrieve all inputs executed in the current kernel section'''\n",
      "%history\n"
     ]
    }
   ],
   "source": [
    "'''Retrieve all inputs executed in the current kernel section'''\n",
    "%history"
   ]
  },
  {
   "cell_type": "code",
   "execution_count": 2,
   "id": "f868b4cf",
   "metadata": {},
   "outputs": [],
   "source": [
    "import numpy as np\n",
    "import pandas as pd\n",
    "\n",
    "import warnings"
   ]
  },
  {
   "cell_type": "code",
   "execution_count": 3,
   "id": "1805c608",
   "metadata": {},
   "outputs": [
    {
     "name": "stdout",
     "output_type": "stream",
     "text": [
      "Pandas version -> 2.1.2\n",
      "Numpy version -> 1.26.1\n"
     ]
    }
   ],
   "source": [
    "print('Pandas version -> %s' % pd.__version__)\n",
    "print('Numpy version -> %s' % np.__version__)"
   ]
  },
  {
   "cell_type": "code",
   "execution_count": 4,
   "id": "48f751ea",
   "metadata": {},
   "outputs": [],
   "source": [
    "#Read data\n",
    "df_distance = pd.read_csv('store_location_analysis_distance.csv', index_col='CustomerNeighborhood')\n",
    "df_stores = pd.read_csv('store_location_analysis_stores.csv', index_col='StoreLocation')\n",
    "df_census = pd.read_csv('store_location_analysis_census.csv', index_col='CustomerNeighborhood')"
   ]
  },
  {
   "cell_type": "code",
   "execution_count": 5,
   "id": "01fd74d4",
   "metadata": {},
   "outputs": [
    {
     "data": {
      "text/html": [
       "<div>\n",
       "<style scoped>\n",
       "    .dataframe tbody tr th:only-of-type {\n",
       "        vertical-align: middle;\n",
       "    }\n",
       "\n",
       "    .dataframe tbody tr th {\n",
       "        vertical-align: top;\n",
       "    }\n",
       "\n",
       "    .dataframe thead th {\n",
       "        text-align: right;\n",
       "    }\n",
       "</style>\n",
       "<table border=\"1\" class=\"dataframe\">\n",
       "  <thead>\n",
       "    <tr style=\"text-align: right;\">\n",
       "      <th></th>\n",
       "      <th>Shopping_Mall_01</th>\n",
       "      <th>Shopping_Mall_02</th>\n",
       "      <th>Waterfront_Park</th>\n",
       "      <th>Church_Street</th>\n",
       "    </tr>\n",
       "    <tr>\n",
       "      <th>CustomerNeighborhood</th>\n",
       "      <th></th>\n",
       "      <th></th>\n",
       "      <th></th>\n",
       "      <th></th>\n",
       "    </tr>\n",
       "  </thead>\n",
       "  <tbody>\n",
       "    <tr>\n",
       "      <th>Neighborhood_01</th>\n",
       "      <td>50</td>\n",
       "      <td>70</td>\n",
       "      <td>70</td>\n",
       "      <td>30</td>\n",
       "    </tr>\n",
       "    <tr>\n",
       "      <th>Neighborhood_02</th>\n",
       "      <td>70</td>\n",
       "      <td>80</td>\n",
       "      <td>80</td>\n",
       "      <td>40</td>\n",
       "    </tr>\n",
       "    <tr>\n",
       "      <th>Neighborhood_03</th>\n",
       "      <td>80</td>\n",
       "      <td>1</td>\n",
       "      <td>70</td>\n",
       "      <td>20</td>\n",
       "    </tr>\n",
       "    <tr>\n",
       "      <th>Neighborhood_04</th>\n",
       "      <td>1</td>\n",
       "      <td>20</td>\n",
       "      <td>40</td>\n",
       "      <td>40</td>\n",
       "    </tr>\n",
       "    <tr>\n",
       "      <th>Neighborhood_05</th>\n",
       "      <td>10</td>\n",
       "      <td>30</td>\n",
       "      <td>30</td>\n",
       "      <td>30</td>\n",
       "    </tr>\n",
       "  </tbody>\n",
       "</table>\n",
       "</div>"
      ],
      "text/plain": [
       "                      Shopping_Mall_01  Shopping_Mall_02  Waterfront_Park  \\\n",
       "CustomerNeighborhood                                                        \n",
       "Neighborhood_01                     50                70               70   \n",
       "Neighborhood_02                     70                80               80   \n",
       "Neighborhood_03                     80                 1               70   \n",
       "Neighborhood_04                      1                20               40   \n",
       "Neighborhood_05                     10                30               30   \n",
       "\n",
       "                      Church_Street  \n",
       "CustomerNeighborhood                 \n",
       "Neighborhood_01                  30  \n",
       "Neighborhood_02                  40  \n",
       "Neighborhood_03                  20  \n",
       "Neighborhood_04                  40  \n",
       "Neighborhood_05                  30  "
      ]
     },
     "execution_count": 5,
     "metadata": {},
     "output_type": "execute_result"
    }
   ],
   "source": [
    "df_distance"
   ]
  },
  {
   "cell_type": "code",
   "execution_count": 9,
   "id": "9948f068",
   "metadata": {},
   "outputs": [
    {
     "data": {
      "text/html": [
       "<style type=\"text/css\">\n",
       "</style>\n",
       "<table id=\"T_7919a\">\n",
       "  <thead>\n",
       "    <tr>\n",
       "      <th class=\"blank level0\" >&nbsp;</th>\n",
       "      <th id=\"T_7919a_level0_col0\" class=\"col_heading level0 col0\" >Size</th>\n",
       "      <th id=\"T_7919a_level0_col1\" class=\"col_heading level0 col1\" >Parking spaces</th>\n",
       "      <th id=\"T_7919a_level0_col2\" class=\"col_heading level0 col2\" >BusLanes</th>\n",
       "      <th id=\"T_7919a_level0_col3\" class=\"col_heading level0 col3\" >Accessibility</th>\n",
       "      <th id=\"T_7919a_level0_col4\" class=\"col_heading level0 col4\" >Location</th>\n",
       "    </tr>\n",
       "    <tr>\n",
       "      <th class=\"index_name level0\" >StoreLocation</th>\n",
       "      <th class=\"blank col0\" >&nbsp;</th>\n",
       "      <th class=\"blank col1\" >&nbsp;</th>\n",
       "      <th class=\"blank col2\" >&nbsp;</th>\n",
       "      <th class=\"blank col3\" >&nbsp;</th>\n",
       "      <th class=\"blank col4\" >&nbsp;</th>\n",
       "    </tr>\n",
       "  </thead>\n",
       "  <tbody>\n",
       "    <tr>\n",
       "      <th id=\"T_7919a_level0_row0\" class=\"row_heading level0 row0\" >Shopping_Mall_01</th>\n",
       "      <td id=\"T_7919a_row0_col0\" class=\"data row0 col0\" >1,000</td>\n",
       "      <td id=\"T_7919a_row0_col1\" class=\"data row0 col1\" >400</td>\n",
       "      <td id=\"T_7919a_row0_col2\" class=\"data row0 col2\" >4</td>\n",
       "      <td id=\"T_7919a_row0_col3\" class=\"data row0 col3\" >10</td>\n",
       "      <td id=\"T_7919a_row0_col4\" class=\"data row0 col4\" >6</td>\n",
       "    </tr>\n",
       "    <tr>\n",
       "      <th id=\"T_7919a_level0_row1\" class=\"row_heading level0 row1\" >Shopping_Mall_02</th>\n",
       "      <td id=\"T_7919a_row1_col0\" class=\"data row1 col0\" >1,000</td>\n",
       "      <td id=\"T_7919a_row1_col1\" class=\"data row1 col1\" >300</td>\n",
       "      <td id=\"T_7919a_row1_col2\" class=\"data row1 col2\" >2</td>\n",
       "      <td id=\"T_7919a_row1_col3\" class=\"data row1 col3\" >9</td>\n",
       "      <td id=\"T_7919a_row1_col4\" class=\"data row1 col4\" >6</td>\n",
       "    </tr>\n",
       "    <tr>\n",
       "      <th id=\"T_7919a_level0_row2\" class=\"row_heading level0 row2\" >Waterfront_Park</th>\n",
       "      <td id=\"T_7919a_row2_col0\" class=\"data row2 col0\" >600</td>\n",
       "      <td id=\"T_7919a_row2_col1\" class=\"data row2 col1\" >500</td>\n",
       "      <td id=\"T_7919a_row2_col2\" class=\"data row2 col2\" >3</td>\n",
       "      <td id=\"T_7919a_row2_col3\" class=\"data row2 col3\" >8</td>\n",
       "      <td id=\"T_7919a_row2_col4\" class=\"data row2 col4\" >10</td>\n",
       "    </tr>\n",
       "    <tr>\n",
       "      <th id=\"T_7919a_level0_row3\" class=\"row_heading level0 row3\" >Church_Street</th>\n",
       "      <td id=\"T_7919a_row3_col0\" class=\"data row3 col0\" >800</td>\n",
       "      <td id=\"T_7919a_row3_col1\" class=\"data row3 col1\" >100</td>\n",
       "      <td id=\"T_7919a_row3_col2\" class=\"data row3 col2\" >6</td>\n",
       "      <td id=\"T_7919a_row3_col3\" class=\"data row3 col3\" >8</td>\n",
       "      <td id=\"T_7919a_row3_col4\" class=\"data row3 col4\" >8</td>\n",
       "    </tr>\n",
       "  </tbody>\n",
       "</table>\n"
      ],
      "text/plain": [
       "<pandas.io.formats.style.Styler at 0x1f96fc81be0>"
      ]
     },
     "execution_count": 9,
     "metadata": {},
     "output_type": "execute_result"
    }
   ],
   "source": [
    "df_stores.style.format(thousands=',')"
   ]
  },
  {
   "cell_type": "code",
   "execution_count": 7,
   "id": "73c71196",
   "metadata": {},
   "outputs": [
    {
     "data": {
      "text/html": [
       "<style type=\"text/css\">\n",
       "</style>\n",
       "<table id=\"T_d49b7\">\n",
       "  <thead>\n",
       "    <tr>\n",
       "      <th class=\"blank level0\" >&nbsp;</th>\n",
       "      <th id=\"T_d49b7_level0_col0\" class=\"col_heading level0 col0\" >Households</th>\n",
       "      <th id=\"T_d49b7_level0_col1\" class=\"col_heading level0 col1\" >AvgExpenditure</th>\n",
       "      <th id=\"T_d49b7_level0_col2\" class=\"col_heading level0 col2\" >Total</th>\n",
       "    </tr>\n",
       "    <tr>\n",
       "      <th class=\"index_name level0\" >CustomerNeighborhood</th>\n",
       "      <th class=\"blank col0\" >&nbsp;</th>\n",
       "      <th class=\"blank col1\" >&nbsp;</th>\n",
       "      <th class=\"blank col2\" >&nbsp;</th>\n",
       "    </tr>\n",
       "  </thead>\n",
       "  <tbody>\n",
       "    <tr>\n",
       "      <th id=\"T_d49b7_level0_row0\" class=\"row_heading level0 row0\" >Neighborhood_01</th>\n",
       "      <td id=\"T_d49b7_row0_col0\" class=\"data row0 col0\" >5,000</td>\n",
       "      <td id=\"T_d49b7_row0_col1\" class=\"data row0 col1\" >1,500</td>\n",
       "      <td id=\"T_d49b7_row0_col2\" class=\"data row0 col2\" >7,500,000</td>\n",
       "    </tr>\n",
       "    <tr>\n",
       "      <th id=\"T_d49b7_level0_row1\" class=\"row_heading level0 row1\" >Neighborhood_02</th>\n",
       "      <td id=\"T_d49b7_row1_col0\" class=\"data row1 col0\" >4,500</td>\n",
       "      <td id=\"T_d49b7_row1_col1\" class=\"data row1 col1\" >1,400</td>\n",
       "      <td id=\"T_d49b7_row1_col2\" class=\"data row1 col2\" >6,300,000</td>\n",
       "    </tr>\n",
       "    <tr>\n",
       "      <th id=\"T_d49b7_level0_row2\" class=\"row_heading level0 row2\" >Neighborhood_03</th>\n",
       "      <td id=\"T_d49b7_row2_col0\" class=\"data row2 col0\" >7,500</td>\n",
       "      <td id=\"T_d49b7_row2_col1\" class=\"data row2 col1\" >1,250</td>\n",
       "      <td id=\"T_d49b7_row2_col2\" class=\"data row2 col2\" >9,375,000</td>\n",
       "    </tr>\n",
       "    <tr>\n",
       "      <th id=\"T_d49b7_level0_row3\" class=\"row_heading level0 row3\" >Neighborhood_04</th>\n",
       "      <td id=\"T_d49b7_row3_col0\" class=\"data row3 col0\" >11,000</td>\n",
       "      <td id=\"T_d49b7_row3_col1\" class=\"data row3 col1\" >1,000</td>\n",
       "      <td id=\"T_d49b7_row3_col2\" class=\"data row3 col2\" >11,000,000</td>\n",
       "    </tr>\n",
       "    <tr>\n",
       "      <th id=\"T_d49b7_level0_row4\" class=\"row_heading level0 row4\" >Neighborhood_05</th>\n",
       "      <td id=\"T_d49b7_row4_col0\" class=\"data row4 col0\" >2,500</td>\n",
       "      <td id=\"T_d49b7_row4_col1\" class=\"data row4 col1\" >1,400</td>\n",
       "      <td id=\"T_d49b7_row4_col2\" class=\"data row4 col2\" >3,500,000</td>\n",
       "    </tr>\n",
       "  </tbody>\n",
       "</table>\n"
      ],
      "text/plain": [
       "<pandas.io.formats.style.Styler at 0x1f97fe4de50>"
      ]
     },
     "execution_count": 7,
     "metadata": {},
     "output_type": "execute_result"
    }
   ],
   "source": [
    "#Total Expenditure by Neighborhood\n",
    "df_census['Total'] = df_census['Households']*df_census['AvgExpenditure']\n",
    "\n",
    "df_census.style.format(thousands=',')"
   ]
  },
  {
   "cell_type": "code",
   "execution_count": 12,
   "id": "786b847c",
   "metadata": {},
   "outputs": [
    {
     "data": {
      "text/html": [
       "<div>\n",
       "<style scoped>\n",
       "    .dataframe tbody tr th:only-of-type {\n",
       "        vertical-align: middle;\n",
       "    }\n",
       "\n",
       "    .dataframe tbody tr th {\n",
       "        vertical-align: top;\n",
       "    }\n",
       "\n",
       "    .dataframe thead th {\n",
       "        text-align: right;\n",
       "    }\n",
       "</style>\n",
       "<table border=\"1\" class=\"dataframe\">\n",
       "  <thead>\n",
       "    <tr style=\"text-align: right;\">\n",
       "      <th></th>\n",
       "      <th>Size</th>\n",
       "      <th>Parking spaces</th>\n",
       "      <th>BusLanes</th>\n",
       "      <th>Accessibility</th>\n",
       "      <th>Location</th>\n",
       "      <th>Attractiveness</th>\n",
       "    </tr>\n",
       "    <tr>\n",
       "      <th>StoreLocation</th>\n",
       "      <th></th>\n",
       "      <th></th>\n",
       "      <th></th>\n",
       "      <th></th>\n",
       "      <th></th>\n",
       "      <th></th>\n",
       "    </tr>\n",
       "  </thead>\n",
       "  <tbody>\n",
       "    <tr>\n",
       "      <th>Shopping_Mall_01</th>\n",
       "      <td>1.0</td>\n",
       "      <td>0.75</td>\n",
       "      <td>0.50</td>\n",
       "      <td>1.0</td>\n",
       "      <td>0.0</td>\n",
       "      <td>3.25</td>\n",
       "    </tr>\n",
       "    <tr>\n",
       "      <th>Shopping_Mall_02</th>\n",
       "      <td>1.0</td>\n",
       "      <td>0.50</td>\n",
       "      <td>0.00</td>\n",
       "      <td>0.5</td>\n",
       "      <td>0.0</td>\n",
       "      <td>2.00</td>\n",
       "    </tr>\n",
       "    <tr>\n",
       "      <th>Waterfront_Park</th>\n",
       "      <td>0.0</td>\n",
       "      <td>1.00</td>\n",
       "      <td>0.25</td>\n",
       "      <td>0.0</td>\n",
       "      <td>1.0</td>\n",
       "      <td>2.25</td>\n",
       "    </tr>\n",
       "    <tr>\n",
       "      <th>Church_Street</th>\n",
       "      <td>0.5</td>\n",
       "      <td>0.00</td>\n",
       "      <td>1.00</td>\n",
       "      <td>0.0</td>\n",
       "      <td>0.5</td>\n",
       "      <td>2.00</td>\n",
       "    </tr>\n",
       "  </tbody>\n",
       "</table>\n",
       "</div>"
      ],
      "text/plain": [
       "                  Size  Parking spaces  BusLanes  Accessibility  Location  \\\n",
       "StoreLocation                                                               \n",
       "Shopping_Mall_01   1.0            0.75      0.50            1.0       0.0   \n",
       "Shopping_Mall_02   1.0            0.50      0.00            0.5       0.0   \n",
       "Waterfront_Park    0.0            1.00      0.25            0.0       1.0   \n",
       "Church_Street      0.5            0.00      1.00            0.0       0.5   \n",
       "\n",
       "                  Attractiveness  \n",
       "StoreLocation                     \n",
       "Shopping_Mall_01            3.25  \n",
       "Shopping_Mall_02            2.00  \n",
       "Waterfront_Park             2.25  \n",
       "Church_Street               2.00  "
      ]
     },
     "execution_count": 12,
     "metadata": {},
     "output_type": "execute_result"
    }
   ],
   "source": [
    "# Loop over each column to normalize its values\n",
    "# Add a new column 'Attractiveness' which is the sum of all normalized values row-wise\n",
    "def store_attractiveness(dataframe):\n",
    "    dataframe_new = dataframe.copy().astype(float)\n",
    "    rows, columns = dataframe_new.shape\n",
    "    for j in range(columns):\n",
    "        column_min = dataframe_new.iloc[:,j].min()\n",
    "        column_max =  dataframe_new.iloc[:,j].max()\n",
    "        for i in range(rows):\n",
    "            numerator = dataframe_new.iloc[i,j] - column_min\n",
    "            denominator = column_max - column_min\n",
    "            dataframe_new.iloc[i,j] = (numerator / denominator)\n",
    "    dataframe_new['Attractiveness'] = dataframe_new.sum(axis=1)\n",
    "    return dataframe_new \n",
    "    \n",
    "df_stores_scaled = store_attractiveness(df_stores)\n",
    "df_stores_scaled"
   ]
  },
  {
   "cell_type": "code",
   "execution_count": 13,
   "id": "47f4098e",
   "metadata": {},
   "outputs": [],
   "source": [
    "# Extract the store names as a list from the index of df_stores_scaled\n",
    "store_names = df_stores_scaled.index.values.tolist()\n",
    "\n",
    "# Extract the neighborhood names as a list from the index of df_distance\n",
    "neighborhood_names = df_distance.index.values.tolist()\n",
    "\n",
    "# Create pairs of neighborhood-store combinations using list comprehension\n",
    "pairs = [(x,y) for x in neighborhood_names for y in store_names]"
   ]
  },
  {
   "cell_type": "code",
   "execution_count": 14,
   "id": "7afe245c",
   "metadata": {},
   "outputs": [],
   "source": [
    "#Demand probability\n",
    "decay_exponent = 2 \n",
    "\n",
    "# Calculate the attractiveness-distance ratio for each neighborhood-store pair\n",
    "attract_by_dist_ratio = {}\n",
    "for pair in pairs:\n",
    "    attract_by_dist_ratio[pair] = df_stores_scaled.loc[pair[1],'Attractiveness'] / \\\n",
    "                                df_distance.loc[pair[0],pair[1]]**decay_exponent\n",
    "\n",
    "# Calculate the demand probability for each neighborhood-store pair\n",
    "demand_probability = {}\n",
    "for pair in pairs:\n",
    "    demand_probability[pair] = attract_by_dist_ratio[pair] / \\\n",
    "                            sum([v for k,v in attract_by_dist_ratio.items() if k[0] == pair[0]])"
   ]
  },
  {
   "cell_type": "code",
   "execution_count": 15,
   "id": "5fb3dca1",
   "metadata": {},
   "outputs": [],
   "source": [
    "#Expected_sales_per_pair\n",
    "expected_sales_per_pair = {}\n",
    "for pair in pairs:\n",
    "    expected_sales_per_pair[pair]= demand_probability[pair] * df_census.loc[pair[0],'Total']"
   ]
  },
  {
   "cell_type": "code",
   "execution_count": 16,
   "id": "4bea2464",
   "metadata": {},
   "outputs": [],
   "source": [
    "#Expected_sales_per_store\n",
    "expected_sales_per_store = {}\n",
    "for store in store_names:\n",
    "    expected_sales_per_store[store] = sum([v for k,v in expected_sales_per_pair.items() if k[1]==store])"
   ]
  },
  {
   "cell_type": "code",
   "execution_count": 17,
   "id": "ebf41156",
   "metadata": {},
   "outputs": [
    {
     "data": {
      "text/html": [
       "<div>\n",
       "<style scoped>\n",
       "    .dataframe tbody tr th:only-of-type {\n",
       "        vertical-align: middle;\n",
       "    }\n",
       "\n",
       "    .dataframe tbody tr th {\n",
       "        vertical-align: top;\n",
       "    }\n",
       "\n",
       "    .dataframe thead th {\n",
       "        text-align: right;\n",
       "    }\n",
       "</style>\n",
       "<table border=\"1\" class=\"dataframe\">\n",
       "  <thead>\n",
       "    <tr style=\"text-align: right;\">\n",
       "      <th></th>\n",
       "      <th>Expected_Sales</th>\n",
       "    </tr>\n",
       "  </thead>\n",
       "  <tbody>\n",
       "    <tr>\n",
       "      <th>Shopping_Mall_01</th>\n",
       "      <td>$17,702,778.80</td>\n",
       "    </tr>\n",
       "    <tr>\n",
       "      <th>Shopping_Mall_02</th>\n",
       "      <td>$11,022,437.97</td>\n",
       "    </tr>\n",
       "    <tr>\n",
       "      <th>Waterfront_Park</th>\n",
       "      <td>$1,872,641.43</td>\n",
       "    </tr>\n",
       "    <tr>\n",
       "      <th>Church_Street</th>\n",
       "      <td>$7,077,141.81</td>\n",
       "    </tr>\n",
       "  </tbody>\n",
       "</table>\n",
       "</div>"
      ],
      "text/plain": [
       "                  Expected_Sales\n",
       "Shopping_Mall_01  $17,702,778.80\n",
       "Shopping_Mall_02  $11,022,437.97\n",
       "Waterfront_Park    $1,872,641.43\n",
       "Church_Street      $7,077,141.81"
      ]
     },
     "execution_count": 17,
     "metadata": {},
     "output_type": "execute_result"
    }
   ],
   "source": [
    "# Convert the dictionary of expected sales per store into a DataFrame\n",
    "expected_sales = pd.DataFrame.from_dict(expected_sales_per_store, orient='index').rename(\n",
    "                columns={0: 'Expected_Sales'})['Expected_Sales'].apply(\n",
    "                lambda x: '${:,.2f}'.format(x)).to_frame()\n",
    "\n",
    "expected_sales"
   ]
  },
  {
   "cell_type": "code",
   "execution_count": null,
   "id": "b25d5604",
   "metadata": {},
   "outputs": [],
   "source": []
  }
 ],
 "metadata": {
  "kernelspec": {
   "display_name": "Python 3 (ipykernel)",
   "language": "python",
   "name": "python3"
  },
  "language_info": {
   "codemirror_mode": {
    "name": "ipython",
    "version": 3
   },
   "file_extension": ".py",
   "mimetype": "text/x-python",
   "name": "python",
   "nbconvert_exporter": "python",
   "pygments_lexer": "ipython3",
   "version": "3.9.7"
  }
 },
 "nbformat": 4,
 "nbformat_minor": 5
}
